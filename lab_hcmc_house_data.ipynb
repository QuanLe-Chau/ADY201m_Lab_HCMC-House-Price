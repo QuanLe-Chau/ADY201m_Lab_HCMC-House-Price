{
 "cells": [
  {
   "cell_type": "markdown",
   "metadata": {},
   "source": [
    "# Data Analysis and Predictive Model of House Prices in HCMC, Vietnam."
   ]
  },
  {
   "cell_type": "markdown",
   "metadata": {},
   "source": [
    "#### Set up - Import Libraries"
   ]
  },
  {
   "cell_type": "code",
   "execution_count": 2,
   "metadata": {},
   "outputs": [],
   "source": [
    "import pandas as pd\n",
    "import re\n",
    "import numpy as np\n",
    "import matplotlib.pyplot as plt\n",
    "import seaborn as sns\n",
    "import string"
   ]
  },
  {
   "cell_type": "markdown",
   "metadata": {},
   "source": [
    "#### Functions"
   ]
  },
  {
   "cell_type": "code",
   "execution_count": 3,
   "metadata": {},
   "outputs": [],
   "source": [
    "def format_price(df):\n",
    "\n",
    "    price_str = str(df['Price'])\n",
    "\n",
    "    price_string_split = price_str.split(' ')\n",
    "    price = 0\n",
    "    for i in range(len(price_string_split)):\n",
    "        if price_string_split[i] == 'tỷ':\n",
    "            price += int(price_string_split[i-1])*1000\n",
    "        if price_string_split[i] == 'triệu':\n",
    "            price += int(price_string_split[i-1])\n",
    "    \n",
    "    return price"
   ]
  },
  {
   "cell_type": "code",
   "execution_count": 4,
   "metadata": {},
   "outputs": [],
   "source": [
    "def administrative_division_category(df):\n",
    "    if 'Quận' in str(df['District']):\n",
    "        return 'Urban'\n",
    "    elif 'Huyện' in str(df['District']):\n",
    "        return 'Suburban'"
   ]
  },
  {
   "cell_type": "code",
   "execution_count": 5,
   "metadata": {},
   "outputs": [],
   "source": [
    "def living_area_calc(df):\n",
    "    return df['Ground_Area'] * df['Floor']"
   ]
  },
  {
   "cell_type": "markdown",
   "metadata": {},
   "source": [
    "## Overview"
   ]
  },
  {
   "cell_type": "markdown",
   "metadata": {},
   "source": [
    "## 1. Data Wragling\n",
    "- **1.0** Extract data from property's title \n",
    "    - Extract if the property is in frontage or not\n",
    "    - Extract how many floors is the property\n",
    "- **1.1** Handle missing values\n",
    "    - Drop null in column `Floor` and `Price`\n",
    "- **1.2** Correct data format\n",
    "    - Correct `Price` format: From Vietnamese expression to numeric format (Unit: million VND)\n",
    "- **1.3** Data standardization\n",
    "    - Correct `District` format: From Vietnamese to District Code.\n",
    "- **1.4** Bin data / Add features to the data.\n",
    "    - Adding `Division_Type` column which conclude of <ins>Urban</ins> and <ins>Suburban</ins>\n",
    "    - Adding `Living_Area` column which is total living space, calculated by `Ground_Area` x `Floor`\n",
    "- **Add-on** Write clean data into `clean_hcmc_house_data.csv` to optimize process of EDA and Model Building"
   ]
  },
  {
   "cell_type": "code",
   "execution_count": null,
   "metadata": {},
   "outputs": [
    {
     "data": {
      "text/html": [
       "<div>\n",
       "<style scoped>\n",
       "    .dataframe tbody tr th:only-of-type {\n",
       "        vertical-align: middle;\n",
       "    }\n",
       "\n",
       "    .dataframe tbody tr th {\n",
       "        vertical-align: top;\n",
       "    }\n",
       "\n",
       "    .dataframe thead th {\n",
       "        text-align: right;\n",
       "    }\n",
       "</style>\n",
       "<table border=\"1\" class=\"dataframe\">\n",
       "  <thead>\n",
       "    <tr style=\"text-align: right;\">\n",
       "      <th></th>\n",
       "      <th>Title</th>\n",
       "      <th>Date</th>\n",
       "      <th>District</th>\n",
       "      <th>City</th>\n",
       "      <th>Ground_Area</th>\n",
       "      <th>Bedroom</th>\n",
       "      <th>Restroom</th>\n",
       "      <th>Price</th>\n",
       "    </tr>\n",
       "  </thead>\n",
       "  <tbody>\n",
       "    <tr>\n",
       "      <th>0</th>\n",
       "      <td>nhà 5 tầng Biệt thư City Land nguyễn oanh. pha...</td>\n",
       "      <td>2024-11-06</td>\n",
       "      <td>Quận Gò Vấp</td>\n",
       "      <td>TPHCM</td>\n",
       "      <td>100</td>\n",
       "      <td>5</td>\n",
       "      <td>5</td>\n",
       "      <td>17 tỷ</td>\n",
       "    </tr>\n",
       "    <tr>\n",
       "      <th>1</th>\n",
       "      <td>Bán nhà HXH 128 Thiên Phước , p9 , Q tân bình....</td>\n",
       "      <td>2024-11-06</td>\n",
       "      <td>Quận Tân Bình</td>\n",
       "      <td>TPHCM</td>\n",
       "      <td>50</td>\n",
       "      <td>4</td>\n",
       "      <td>3</td>\n",
       "      <td>10 tỷ 500 triệu</td>\n",
       "    </tr>\n",
       "    <tr>\n",
       "      <th>2</th>\n",
       "      <td>Nhà đẹp sổ hồng trệt 2 lầu ở Nhơn Đức Nhà Bè</td>\n",
       "      <td>2024-11-06</td>\n",
       "      <td>Huyện Nhà Bè</td>\n",
       "      <td>TPHCM</td>\n",
       "      <td>25</td>\n",
       "      <td>3</td>\n",
       "      <td>2</td>\n",
       "      <td>1 tỷ 390 triệu</td>\n",
       "    </tr>\n",
       "    <tr>\n",
       "      <th>3</th>\n",
       "      <td>Chính Chủ bán Biệt thự mái Thái TP Biên Hòa- M...</td>\n",
       "      <td>2024-11-06</td>\n",
       "      <td>Quận 9 (TP. Thủ Đức)</td>\n",
       "      <td>TPHCM</td>\n",
       "      <td>619</td>\n",
       "      <td>3</td>\n",
       "      <td>3</td>\n",
       "      <td>3 tỷ 400 triệu</td>\n",
       "    </tr>\n",
       "    <tr>\n",
       "      <th>4</th>\n",
       "      <td>Bán nhà Chính Chủ: Địa chỉ: 293/41/3. Bạch Đằn...</td>\n",
       "      <td>2024-11-06</td>\n",
       "      <td>Quận Bình Thạnh</td>\n",
       "      <td>TPHCM</td>\n",
       "      <td>33</td>\n",
       "      <td>2</td>\n",
       "      <td>2</td>\n",
       "      <td>4 tỷ 350 triệu</td>\n",
       "    </tr>\n",
       "  </tbody>\n",
       "</table>\n",
       "</div>"
      ],
      "text/plain": [
       "                                               Title        Date  \\\n",
       "0  nhà 5 tầng Biệt thư City Land nguyễn oanh. pha...  2024-11-06   \n",
       "1  Bán nhà HXH 128 Thiên Phước , p9 , Q tân bình....  2024-11-06   \n",
       "2       Nhà đẹp sổ hồng trệt 2 lầu ở Nhơn Đức Nhà Bè  2024-11-06   \n",
       "3  Chính Chủ bán Biệt thự mái Thái TP Biên Hòa- M...  2024-11-06   \n",
       "4  Bán nhà Chính Chủ: Địa chỉ: 293/41/3. Bạch Đằn...  2024-11-06   \n",
       "\n",
       "               District    City  Ground_Area  Bedroom  Restroom  \\\n",
       "0           Quận Gò Vấp   TPHCM          100        5         5   \n",
       "1         Quận Tân Bình   TPHCM           50        4         3   \n",
       "2          Huyện Nhà Bè   TPHCM           25        3         2   \n",
       "3  Quận 9 (TP. Thủ Đức)   TPHCM          619        3         3   \n",
       "4       Quận Bình Thạnh   TPHCM           33        2         2   \n",
       "\n",
       "             Price  \n",
       "0            17 tỷ  \n",
       "1  10 tỷ 500 triệu  \n",
       "2   1 tỷ 390 triệu  \n",
       "3   3 tỷ 400 triệu  \n",
       "4   4 tỷ 350 triệu  "
      ]
     },
     "execution_count": 178,
     "metadata": {},
     "output_type": "execute_result"
    }
   ],
   "source": [
    "# Loading into DataFrame\n",
    "\n",
    "df = pd.read_csv('hcmc_house_data.csv')\n",
    "\n",
    "# Dropping irrelevant columns\n",
    "df.drop(columns='Page', axis=1, inplace=True)\n",
    "\n",
    "df.head()"
   ]
  },
  {
   "cell_type": "code",
   "execution_count": null,
   "metadata": {},
   "outputs": [
    {
     "name": "stdout",
     "output_type": "stream",
     "text": [
      "<class 'pandas.core.frame.DataFrame'>\n",
      "RangeIndex: 119654 entries, 0 to 119653\n",
      "Data columns (total 8 columns):\n",
      " #   Column       Non-Null Count   Dtype \n",
      "---  ------       --------------   ----- \n",
      " 0   Title        119654 non-null  object\n",
      " 1   Date         119654 non-null  object\n",
      " 2   District     119654 non-null  object\n",
      " 3   City         119654 non-null  object\n",
      " 4   Ground_Area  119654 non-null  int64 \n",
      " 5   Bedroom      119654 non-null  int64 \n",
      " 6   Restroom     119654 non-null  int64 \n",
      " 7   Price        119652 non-null  object\n",
      "dtypes: int64(3), object(5)\n",
      "memory usage: 7.3+ MB\n"
     ]
    }
   ],
   "source": [
    "# An overview of DataFrame\n",
    "\n",
    "df.info()"
   ]
  },
  {
   "cell_type": "markdown",
   "metadata": {},
   "source": [
    "### 1.0 Extract data from property's title"
   ]
  },
  {
   "cell_type": "code",
   "execution_count": null,
   "metadata": {},
   "outputs": [],
   "source": [
    "def frontage(df):\n",
    "    prop_title = re.sub(r\"[,.;@#?!&$]+\\ *\", \" \", df['Title'].lower())\n",
    "    \n",
    "    if 'mặt tiền' in prop_title:\n",
    "        return 1\n",
    "    elif re.findall('mt', prop_title):\n",
    "        return 1\n",
    "    elif re.findall('bt', prop_title):\n",
    "        return 1\n",
    "    elif 'biệt thự' in prop_title or 'villa' in prop_title:\n",
    "        return 1\n",
    "    else: \n",
    "        return 0"
   ]
  },
  {
   "cell_type": "code",
   "execution_count": null,
   "metadata": {},
   "outputs": [],
   "source": [
    "def floor(df):\n",
    "    prop_title = re.sub(r\"[,.;@#?!&$()|-]+\\ *\", \" \", df['Title'].lower())\n",
    "    prop_title_split = prop_title.lower().split(' ')\n",
    "    patternL = r\"^\\d+L$\"\n",
    "    patternT = r\"^\\d+T$\"\n",
    "\n",
    "    floor = None\n",
    "\n",
    "    for i, word in enumerate(prop_title_split):\n",
    "        if word.lower() == 'lầu' and i != 0:\n",
    "            if prop_title_split[i-1].isnumeric():\n",
    "                return 1 + int(prop_title_split[i-1])\n",
    "            else:\n",
    "                return 2\n",
    "        elif word.lower() == 'tầng' and i != 0:\n",
    "            if prop_title_split[i-1].isnumeric():\n",
    "                return int(prop_title_split[i-1]) \n",
    "        elif word.lower() == 'tầng' and i != 0:\n",
    "            if prop_title_split[i-1].isnumeric():\n",
    "                return int(prop_title_split[i-1])\n",
    "        elif word.lower() == 'tấm' and i != 0:\n",
    "            if prop_title_split[i-1].isnumeric():\n",
    "                return int(prop_title_split[i-1]) \n",
    "        elif word.lower() == '1t1l':\n",
    "            return 2\n",
    "        elif word.lower() == '1t2l':\n",
    "            return 3\n",
    "        elif re.match(patternL, word):\n",
    "            word = word[:-1]\n",
    "            return 1 + int(word)\n",
    "        elif re.match(patternT, word):\n",
    "            word = word[:-1]\n",
    "            return int(word)\n",
    "        \n",
    "        if 'biệt thự' in prop_title or 'villa' in prop_title:\n",
    "            return 3\n",
    "        elif 'nhà cấp 4' in prop_title:\n",
    "            return 2\n",
    "    return floor"
   ]
  },
  {
   "cell_type": "code",
   "execution_count": 182,
   "metadata": {},
   "outputs": [],
   "source": [
    "floor = df.apply(floor, axis=1)\n",
    "\n",
    "df['Floor'] = floor"
   ]
  },
  {
   "cell_type": "code",
   "execution_count": 183,
   "metadata": {},
   "outputs": [],
   "source": [
    "frontage = df.apply(frontage, axis = 1)\n",
    "\n",
    "df['Frontage'] = frontage "
   ]
  },
  {
   "cell_type": "markdown",
   "metadata": {},
   "source": [
    "### 1.1 Handle Missing Values"
   ]
  },
  {
   "cell_type": "code",
   "execution_count": 184,
   "metadata": {},
   "outputs": [
    {
     "name": "stdout",
     "output_type": "stream",
     "text": [
      "<class 'pandas.core.frame.DataFrame'>\n",
      "RangeIndex: 119654 entries, 0 to 119653\n",
      "Data columns (total 10 columns):\n",
      " #   Column       Non-Null Count   Dtype  \n",
      "---  ------       --------------   -----  \n",
      " 0   Title        119654 non-null  object \n",
      " 1   Date         119654 non-null  object \n",
      " 2   District     119654 non-null  object \n",
      " 3   City         119654 non-null  object \n",
      " 4   Ground_Area  119654 non-null  int64  \n",
      " 5   Bedroom      119654 non-null  int64  \n",
      " 6   Restroom     119654 non-null  int64  \n",
      " 7   Price        119652 non-null  object \n",
      " 8   Floor        45786 non-null   float64\n",
      " 9   Frontage     119654 non-null  int64  \n",
      "dtypes: float64(1), int64(4), object(5)\n",
      "memory usage: 9.1+ MB\n"
     ]
    }
   ],
   "source": [
    "df.info()"
   ]
  },
  {
   "cell_type": "code",
   "execution_count": 185,
   "metadata": {},
   "outputs": [
    {
     "data": {
      "text/plain": [
       "Title              0\n",
       "Date               0\n",
       "District           0\n",
       "City               0\n",
       "Ground_Area        0\n",
       "Bedroom            0\n",
       "Restroom           0\n",
       "Price              2\n",
       "Floor          73868\n",
       "Frontage           0\n",
       "dtype: int64"
      ]
     },
     "execution_count": 185,
     "metadata": {},
     "output_type": "execute_result"
    }
   ],
   "source": [
    "df.isnull().sum()"
   ]
  },
  {
   "cell_type": "code",
   "execution_count": 186,
   "metadata": {},
   "outputs": [],
   "source": [
    "df = df.dropna()"
   ]
  },
  {
   "cell_type": "code",
   "execution_count": 187,
   "metadata": {},
   "outputs": [],
   "source": [
    "df.reset_index(drop=True, inplace=True)"
   ]
  },
  {
   "cell_type": "code",
   "execution_count": 188,
   "metadata": {},
   "outputs": [
    {
     "name": "stdout",
     "output_type": "stream",
     "text": [
      "<class 'pandas.core.frame.DataFrame'>\n",
      "RangeIndex: 45785 entries, 0 to 45784\n",
      "Data columns (total 10 columns):\n",
      " #   Column       Non-Null Count  Dtype  \n",
      "---  ------       --------------  -----  \n",
      " 0   Title        45785 non-null  object \n",
      " 1   Date         45785 non-null  object \n",
      " 2   District     45785 non-null  object \n",
      " 3   City         45785 non-null  object \n",
      " 4   Ground_Area  45785 non-null  int64  \n",
      " 5   Bedroom      45785 non-null  int64  \n",
      " 6   Restroom     45785 non-null  int64  \n",
      " 7   Price        45785 non-null  object \n",
      " 8   Floor        45785 non-null  float64\n",
      " 9   Frontage     45785 non-null  int64  \n",
      "dtypes: float64(1), int64(4), object(5)\n",
      "memory usage: 3.5+ MB\n"
     ]
    }
   ],
   "source": [
    "df.info()"
   ]
  },
  {
   "cell_type": "markdown",
   "metadata": {},
   "source": [
    "### 1.2 Correct Data Format"
   ]
  },
  {
   "cell_type": "code",
   "execution_count": 189,
   "metadata": {},
   "outputs": [
    {
     "data": {
      "text/plain": [
       "0              17 tỷ\n",
       "1    10 tỷ 500 triệu\n",
       "2     1 tỷ 390 triệu\n",
       "3     3 tỷ 400 triệu\n",
       "4     4 tỷ 950 triệu\n",
       "Name: Price, dtype: object"
      ]
     },
     "execution_count": 189,
     "metadata": {},
     "output_type": "execute_result"
    }
   ],
   "source": [
    "df['Price'].head()"
   ]
  },
  {
   "cell_type": "markdown",
   "metadata": {},
   "source": [
    "The `Price` columns is now in written form in Vietnamese language.   \n",
    "&rarr; We would want to convert it into numeric form."
   ]
  },
  {
   "cell_type": "code",
   "execution_count": 190,
   "metadata": {},
   "outputs": [
    {
     "ename": "KeyboardInterrupt",
     "evalue": "",
     "output_type": "error",
     "traceback": [
      "\u001b[1;31m---------------------------------------------------------------------------\u001b[0m",
      "\u001b[1;31mKeyboardInterrupt\u001b[0m                         Traceback (most recent call last)",
      "Cell \u001b[1;32mIn[190], line 1\u001b[0m\n\u001b[1;32m----> 1\u001b[0m formated_price \u001b[38;5;241m=\u001b[39m \u001b[43mdf\u001b[49m\u001b[38;5;241;43m.\u001b[39;49m\u001b[43mapply\u001b[49m\u001b[43m(\u001b[49m\u001b[43mformat_price\u001b[49m\u001b[43m,\u001b[49m\u001b[43m \u001b[49m\u001b[43maxis\u001b[49m\u001b[38;5;241;43m=\u001b[39;49m\u001b[38;5;241;43m1\u001b[39;49m\u001b[43m)\u001b[49m\n\u001b[0;32m      3\u001b[0m df[\u001b[38;5;124m'\u001b[39m\u001b[38;5;124mPrice\u001b[39m\u001b[38;5;124m'\u001b[39m] \u001b[38;5;241m=\u001b[39m formated_price\n\u001b[0;32m      5\u001b[0m df\u001b[38;5;241m.\u001b[39mhead()\n",
      "File \u001b[1;32m~\\AppData\\Local\\Packages\\PythonSoftwareFoundation.Python.3.11_qbz5n2kfra8p0\\LocalCache\\local-packages\\Python311\\site-packages\\pandas\\core\\frame.py:10374\u001b[0m, in \u001b[0;36mDataFrame.apply\u001b[1;34m(self, func, axis, raw, result_type, args, by_row, engine, engine_kwargs, **kwargs)\u001b[0m\n\u001b[0;32m  10360\u001b[0m \u001b[38;5;28;01mfrom\u001b[39;00m \u001b[38;5;21;01mpandas\u001b[39;00m\u001b[38;5;21;01m.\u001b[39;00m\u001b[38;5;21;01mcore\u001b[39;00m\u001b[38;5;21;01m.\u001b[39;00m\u001b[38;5;21;01mapply\u001b[39;00m \u001b[38;5;28;01mimport\u001b[39;00m frame_apply\n\u001b[0;32m  10362\u001b[0m op \u001b[38;5;241m=\u001b[39m frame_apply(\n\u001b[0;32m  10363\u001b[0m     \u001b[38;5;28mself\u001b[39m,\n\u001b[0;32m  10364\u001b[0m     func\u001b[38;5;241m=\u001b[39mfunc,\n\u001b[1;32m   (...)\u001b[0m\n\u001b[0;32m  10372\u001b[0m     kwargs\u001b[38;5;241m=\u001b[39mkwargs,\n\u001b[0;32m  10373\u001b[0m )\n\u001b[1;32m> 10374\u001b[0m \u001b[38;5;28;01mreturn\u001b[39;00m \u001b[43mop\u001b[49m\u001b[38;5;241;43m.\u001b[39;49m\u001b[43mapply\u001b[49m\u001b[43m(\u001b[49m\u001b[43m)\u001b[49m\u001b[38;5;241m.\u001b[39m__finalize__(\u001b[38;5;28mself\u001b[39m, method\u001b[38;5;241m=\u001b[39m\u001b[38;5;124m\"\u001b[39m\u001b[38;5;124mapply\u001b[39m\u001b[38;5;124m\"\u001b[39m)\n",
      "File \u001b[1;32m~\\AppData\\Local\\Packages\\PythonSoftwareFoundation.Python.3.11_qbz5n2kfra8p0\\LocalCache\\local-packages\\Python311\\site-packages\\pandas\\core\\apply.py:916\u001b[0m, in \u001b[0;36mFrameApply.apply\u001b[1;34m(self)\u001b[0m\n\u001b[0;32m    913\u001b[0m \u001b[38;5;28;01melif\u001b[39;00m \u001b[38;5;28mself\u001b[39m\u001b[38;5;241m.\u001b[39mraw:\n\u001b[0;32m    914\u001b[0m     \u001b[38;5;28;01mreturn\u001b[39;00m \u001b[38;5;28mself\u001b[39m\u001b[38;5;241m.\u001b[39mapply_raw(engine\u001b[38;5;241m=\u001b[39m\u001b[38;5;28mself\u001b[39m\u001b[38;5;241m.\u001b[39mengine, engine_kwargs\u001b[38;5;241m=\u001b[39m\u001b[38;5;28mself\u001b[39m\u001b[38;5;241m.\u001b[39mengine_kwargs)\n\u001b[1;32m--> 916\u001b[0m \u001b[38;5;28;01mreturn\u001b[39;00m \u001b[38;5;28;43mself\u001b[39;49m\u001b[38;5;241;43m.\u001b[39;49m\u001b[43mapply_standard\u001b[49m\u001b[43m(\u001b[49m\u001b[43m)\u001b[49m\n",
      "File \u001b[1;32m~\\AppData\\Local\\Packages\\PythonSoftwareFoundation.Python.3.11_qbz5n2kfra8p0\\LocalCache\\local-packages\\Python311\\site-packages\\pandas\\core\\apply.py:1063\u001b[0m, in \u001b[0;36mFrameApply.apply_standard\u001b[1;34m(self)\u001b[0m\n\u001b[0;32m   1061\u001b[0m \u001b[38;5;28;01mdef\u001b[39;00m \u001b[38;5;21mapply_standard\u001b[39m(\u001b[38;5;28mself\u001b[39m):\n\u001b[0;32m   1062\u001b[0m     \u001b[38;5;28;01mif\u001b[39;00m \u001b[38;5;28mself\u001b[39m\u001b[38;5;241m.\u001b[39mengine \u001b[38;5;241m==\u001b[39m \u001b[38;5;124m\"\u001b[39m\u001b[38;5;124mpython\u001b[39m\u001b[38;5;124m\"\u001b[39m:\n\u001b[1;32m-> 1063\u001b[0m         results, res_index \u001b[38;5;241m=\u001b[39m \u001b[38;5;28;43mself\u001b[39;49m\u001b[38;5;241;43m.\u001b[39;49m\u001b[43mapply_series_generator\u001b[49m\u001b[43m(\u001b[49m\u001b[43m)\u001b[49m\n\u001b[0;32m   1064\u001b[0m     \u001b[38;5;28;01melse\u001b[39;00m:\n\u001b[0;32m   1065\u001b[0m         results, res_index \u001b[38;5;241m=\u001b[39m \u001b[38;5;28mself\u001b[39m\u001b[38;5;241m.\u001b[39mapply_series_numba()\n",
      "File \u001b[1;32m~\\AppData\\Local\\Packages\\PythonSoftwareFoundation.Python.3.11_qbz5n2kfra8p0\\LocalCache\\local-packages\\Python311\\site-packages\\pandas\\core\\apply.py:1081\u001b[0m, in \u001b[0;36mFrameApply.apply_series_generator\u001b[1;34m(self)\u001b[0m\n\u001b[0;32m   1078\u001b[0m \u001b[38;5;28;01mwith\u001b[39;00m option_context(\u001b[38;5;124m\"\u001b[39m\u001b[38;5;124mmode.chained_assignment\u001b[39m\u001b[38;5;124m\"\u001b[39m, \u001b[38;5;28;01mNone\u001b[39;00m):\n\u001b[0;32m   1079\u001b[0m     \u001b[38;5;28;01mfor\u001b[39;00m i, v \u001b[38;5;129;01min\u001b[39;00m \u001b[38;5;28menumerate\u001b[39m(series_gen):\n\u001b[0;32m   1080\u001b[0m         \u001b[38;5;66;03m# ignore SettingWithCopy here in case the user mutates\u001b[39;00m\n\u001b[1;32m-> 1081\u001b[0m         results[i] \u001b[38;5;241m=\u001b[39m \u001b[38;5;28;43mself\u001b[39;49m\u001b[38;5;241;43m.\u001b[39;49m\u001b[43mfunc\u001b[49m\u001b[43m(\u001b[49m\u001b[43mv\u001b[49m\u001b[43m,\u001b[49m\u001b[43m \u001b[49m\u001b[38;5;241;43m*\u001b[39;49m\u001b[38;5;28;43mself\u001b[39;49m\u001b[38;5;241;43m.\u001b[39;49m\u001b[43margs\u001b[49m\u001b[43m,\u001b[49m\u001b[43m \u001b[49m\u001b[38;5;241;43m*\u001b[39;49m\u001b[38;5;241;43m*\u001b[39;49m\u001b[38;5;28;43mself\u001b[39;49m\u001b[38;5;241;43m.\u001b[39;49m\u001b[43mkwargs\u001b[49m\u001b[43m)\u001b[49m\n\u001b[0;32m   1082\u001b[0m         \u001b[38;5;28;01mif\u001b[39;00m \u001b[38;5;28misinstance\u001b[39m(results[i], ABCSeries):\n\u001b[0;32m   1083\u001b[0m             \u001b[38;5;66;03m# If we have a view on v, we need to make a copy because\u001b[39;00m\n\u001b[0;32m   1084\u001b[0m             \u001b[38;5;66;03m#  series_generator will swap out the underlying data\u001b[39;00m\n\u001b[0;32m   1085\u001b[0m             results[i] \u001b[38;5;241m=\u001b[39m results[i]\u001b[38;5;241m.\u001b[39mcopy(deep\u001b[38;5;241m=\u001b[39m\u001b[38;5;28;01mFalse\u001b[39;00m)\n",
      "Cell \u001b[1;32mIn[23], line 1\u001b[0m, in \u001b[0;36mformat_price\u001b[1;34m(df)\u001b[0m\n\u001b[1;32m----> 1\u001b[0m \u001b[38;5;28;01mdef\u001b[39;00m \u001b[38;5;21mformat_price\u001b[39m(df):\n\u001b[0;32m      3\u001b[0m     price_str \u001b[38;5;241m=\u001b[39m \u001b[38;5;28mstr\u001b[39m(df[\u001b[38;5;124m'\u001b[39m\u001b[38;5;124mPrice\u001b[39m\u001b[38;5;124m'\u001b[39m])\n\u001b[0;32m      5\u001b[0m     price_string_split \u001b[38;5;241m=\u001b[39m price_str\u001b[38;5;241m.\u001b[39msplit(\u001b[38;5;124m'\u001b[39m\u001b[38;5;124m \u001b[39m\u001b[38;5;124m'\u001b[39m)\n",
      "\u001b[1;31mKeyboardInterrupt\u001b[0m: "
     ]
    }
   ],
   "source": [
    "formated_price = df.apply(format_price, axis=1)\n",
    "\n",
    "df['Price'] = formated_price\n",
    "\n",
    "df.head()"
   ]
  },
  {
   "cell_type": "markdown",
   "metadata": {},
   "source": [
    "### 1.3 Data Standardization"
   ]
  },
  {
   "cell_type": "code",
   "execution_count": null,
   "metadata": {},
   "outputs": [
    {
     "data": {
      "text/plain": [
       "District\n",
       "Quận Tân Bình                 4904\n",
       "Quận Bình Thạnh               4866\n",
       "Quận Gò Vấp                   3959\n",
       "Quận Bình Tân                 3699\n",
       "Quận Phú Nhuận                2861\n",
       "Quận Tân Phú                  2748\n",
       "Quận 7                        2707\n",
       "Quận 2 (TP. Thủ Đức)          2657\n",
       "Quận 3                        2538\n",
       "Quận 1                        2424\n",
       "Quận 10                       2318\n",
       "Quận 12                       1831\n",
       "Quận 9 (TP. Thủ Đức)          1769\n",
       "Quận Thủ Đức (TP. Thủ Đức)    1749\n",
       "Quận 6                         995\n",
       "Quận 11                        755\n",
       "Quận 8                         736\n",
       "Huyện Nhà Bè                   645\n",
       "Quận 5                         609\n",
       "Quận 4                         453\n",
       "Huyện Hóc Môn                  360\n",
       "Huyện Bình Chánh               137\n",
       "Huyện Củ Chi                    65\n",
       "Name: count, dtype: int64"
      ]
     },
     "execution_count": 98,
     "metadata": {},
     "output_type": "execute_result"
    }
   ],
   "source": [
    "df['District'].value_counts()"
   ]
  },
  {
   "cell_type": "markdown",
   "metadata": {},
   "source": [
    "Those `District` names are synchronized, but they are in Vietnamese languages and difficult to process.  \n",
    "&rarr; Standardize these `District` by district code.  "
   ]
  },
  {
   "cell_type": "markdown",
   "metadata": {},
   "source": [
    "|District|Code|District|Code|District|Code|\n",
    "|--|--|--|--|--|--|\n",
    "|Quận 1|D1HCM|Quận 9 (TP. Thủ Đức)|D9TDHCM|Quận Tân Phú|DTANPHUHCM|\n",
    "|Quận 2 (TP. Thủ Đức)|D2TDHCM|Quận 10|D10HCM|Quận Tân Bình|DTANBINHHCM|\n",
    "|Quận 3|D3HCM|Quận 11|D11HCM|Quận Bình Tân|DBINHTANHCM|\n",
    "|Quận 4|D4HCM|Quận 12|D12HCM|Huyện Cần Giờ|SDCANGIOHCM|\n",
    "|Quận 5|D5HCM|Quận Thủ Đức (TP. Thủ Đức)|DTHUDUCTDHCM|Huyện Hóc Môn|SDHOCMONHCM|\n",
    "|Quận 6|D6HCM|Quận Phú Nhuận|DPHUNHUANHCM|Huyện Bình Chánh|SDBINHCHANHHCM|\n",
    "|Quận 7|D7HCM|Quận Gò Vấp|DGOVAPHCM|Huyện Củ Chi|SDCUCHIHCM|\n",
    "|Quận8|D8HCM|Quận Bình Thạnh|DBINHTHANHHCM|Huyện Nhà Bè|SDNHABEHCM|"
   ]
  },
  {
   "cell_type": "code",
   "execution_count": null,
   "metadata": {},
   "outputs": [],
   "source": [
    "# Mapping District Name to District Code\n",
    "\n",
    "df['District_Code'] = df['District'].map({'Quận 1': 'D1HCM', 'Quận 2 (TP. Thủ Đức)': 'D2TDHCM',\n",
    "                                          'Quận 3': 'D3HCM', 'Quận 4': 'D4HCM', 'Quận 5': 'D5HCM',\n",
    "                                          'Quận 6': 'D6HCM', 'Quận 7': 'D7HCM', 'Quận 8': 'D8HCM',\n",
    "                                          'Quận 9 (TP. Thủ Đức)': 'D9TDHCM', 'Quận 10': 'D10HCM',\n",
    "                                          'Quận 11': 'D11HCM', 'Quận 12': 'D12HCM', \n",
    "                                          'Quận Thủ Đức (TP. Thủ Đức)': 'DTHUDUCHCM', \n",
    "                                          'Quận Phú Nhuận': 'DPHUNHUANHCM', 'Quận Gò Vấp': 'DGOVAPHCM', \n",
    "                                          'Quận Bình Thạnh': 'DBINHTHANHHCM', 'Quận Tân Phú':'DTANPHUHCM',\n",
    "                                          'Quận Tân Bình':'DTANBINHHCM', 'Quận Bình Tân': 'DBINHTANHCM',\n",
    "                                          'Huyện Cần Giờ': 'SDCANGIOHCM', 'Huyện Hóc Môn': 'SDHOCMONHCM',\n",
    "                                          'Huyện Bình Chánh': 'SDBINHCHANHHCM', 'Huyện Củ Chi': 'SDCUCHIHCM',\n",
    "                                          'Huyện Nhà Bè': 'SDNHABEHCM'})"
   ]
  },
  {
   "cell_type": "markdown",
   "metadata": {},
   "source": [
    "### 1.4 Bin Data/ Add Features. "
   ]
  },
  {
   "cell_type": "markdown",
   "metadata": {},
   "source": [
    "There are differences between \"Quận\" and \"Huyện\" in Vietnam Administrative Division. Even though they are both `District`, but it still can be divided into \"Urban District\", which is \"Quận\", and \"Suburban District\", which is \"Huyện\""
   ]
  },
  {
   "cell_type": "code",
   "execution_count": null,
   "metadata": {},
   "outputs": [],
   "source": [
    "div_type = df.apply(administrative_division_category, axis=1)\n",
    "\n",
    "df['Division_Type'] = div_type"
   ]
  },
  {
   "cell_type": "code",
   "execution_count": null,
   "metadata": {},
   "outputs": [],
   "source": [
    "living_space = df.apply(living_area_calc, axis=1)\n",
    "\n",
    "df['Living_Area'] = living_space"
   ]
  },
  {
   "cell_type": "markdown",
   "metadata": {},
   "source": [
    "### Write clean data to `clean_hcmc_house_data.csv`"
   ]
  },
  {
   "cell_type": "code",
   "execution_count": null,
   "metadata": {},
   "outputs": [],
   "source": [
    "# Drop columns that no longer relevant\n",
    "\n",
    "df.drop(columns=['Title'], inplace=True)\n",
    "\n",
    "df.drop(columns=['District'], inplace=True)\n"
   ]
  },
  {
   "cell_type": "code",
   "execution_count": null,
   "metadata": {},
   "outputs": [
    {
     "data": {
      "text/html": [
       "<div>\n",
       "<style scoped>\n",
       "    .dataframe tbody tr th:only-of-type {\n",
       "        vertical-align: middle;\n",
       "    }\n",
       "\n",
       "    .dataframe tbody tr th {\n",
       "        vertical-align: top;\n",
       "    }\n",
       "\n",
       "    .dataframe thead th {\n",
       "        text-align: right;\n",
       "    }\n",
       "</style>\n",
       "<table border=\"1\" class=\"dataframe\">\n",
       "  <thead>\n",
       "    <tr style=\"text-align: right;\">\n",
       "      <th></th>\n",
       "      <th>Date</th>\n",
       "      <th>City</th>\n",
       "      <th>District_Code</th>\n",
       "      <th>Division_Type</th>\n",
       "      <th>Frontage</th>\n",
       "      <th>Bedroom</th>\n",
       "      <th>Restroom</th>\n",
       "      <th>Floor</th>\n",
       "      <th>Ground_Area</th>\n",
       "      <th>Living_Area</th>\n",
       "      <th>Price</th>\n",
       "    </tr>\n",
       "  </thead>\n",
       "  <tbody>\n",
       "    <tr>\n",
       "      <th>0</th>\n",
       "      <td>2024-11-06</td>\n",
       "      <td>TPHCM</td>\n",
       "      <td>DGOVAPHCM</td>\n",
       "      <td>Urban</td>\n",
       "      <td>0</td>\n",
       "      <td>5</td>\n",
       "      <td>5</td>\n",
       "      <td>5.0</td>\n",
       "      <td>100</td>\n",
       "      <td>500.0</td>\n",
       "      <td>17000</td>\n",
       "    </tr>\n",
       "    <tr>\n",
       "      <th>1</th>\n",
       "      <td>2024-11-06</td>\n",
       "      <td>TPHCM</td>\n",
       "      <td>DTANBINHHCM</td>\n",
       "      <td>Urban</td>\n",
       "      <td>0</td>\n",
       "      <td>4</td>\n",
       "      <td>3</td>\n",
       "      <td>4.0</td>\n",
       "      <td>50</td>\n",
       "      <td>200.0</td>\n",
       "      <td>10500</td>\n",
       "    </tr>\n",
       "    <tr>\n",
       "      <th>2</th>\n",
       "      <td>2024-11-06</td>\n",
       "      <td>TPHCM</td>\n",
       "      <td>SDNHABEHCM</td>\n",
       "      <td>Suburban</td>\n",
       "      <td>0</td>\n",
       "      <td>3</td>\n",
       "      <td>2</td>\n",
       "      <td>3.0</td>\n",
       "      <td>25</td>\n",
       "      <td>75.0</td>\n",
       "      <td>1390</td>\n",
       "    </tr>\n",
       "    <tr>\n",
       "      <th>3</th>\n",
       "      <td>2024-11-06</td>\n",
       "      <td>TPHCM</td>\n",
       "      <td>D9TDHCM</td>\n",
       "      <td>Urban</td>\n",
       "      <td>1</td>\n",
       "      <td>3</td>\n",
       "      <td>3</td>\n",
       "      <td>3.0</td>\n",
       "      <td>619</td>\n",
       "      <td>1857.0</td>\n",
       "      <td>3400</td>\n",
       "    </tr>\n",
       "    <tr>\n",
       "      <th>4</th>\n",
       "      <td>2024-11-06</td>\n",
       "      <td>TPHCM</td>\n",
       "      <td>DBINHTHANHHCM</td>\n",
       "      <td>Urban</td>\n",
       "      <td>0</td>\n",
       "      <td>3</td>\n",
       "      <td>4</td>\n",
       "      <td>3.0</td>\n",
       "      <td>35</td>\n",
       "      <td>105.0</td>\n",
       "      <td>4950</td>\n",
       "    </tr>\n",
       "  </tbody>\n",
       "</table>\n",
       "</div>"
      ],
      "text/plain": [
       "         Date    City  District_Code Division_Type  Frontage  Bedroom  \\\n",
       "0  2024-11-06   TPHCM      DGOVAPHCM         Urban         0        5   \n",
       "1  2024-11-06   TPHCM    DTANBINHHCM         Urban         0        4   \n",
       "2  2024-11-06   TPHCM     SDNHABEHCM      Suburban         0        3   \n",
       "3  2024-11-06   TPHCM        D9TDHCM         Urban         1        3   \n",
       "4  2024-11-06   TPHCM  DBINHTHANHHCM         Urban         0        3   \n",
       "\n",
       "   Restroom  Floor  Ground_Area  Living_Area  Price  \n",
       "0         5    5.0          100        500.0  17000  \n",
       "1         3    4.0           50        200.0  10500  \n",
       "2         2    3.0           25         75.0   1390  \n",
       "3         3    3.0          619       1857.0   3400  \n",
       "4         4    3.0           35        105.0   4950  "
      ]
     },
     "execution_count": 103,
     "metadata": {},
     "output_type": "execute_result"
    }
   ],
   "source": [
    "# Rearrange columns in DataFrame\n",
    "\n",
    "df = df[['Date', 'City', 'District_Code', 'Division_Type', \n",
    "        'Frontage',  'Bedroom', 'Restroom', 'Floor',\n",
    "        'Ground_Area', 'Living_Area', 'Price']]\n",
    "\n",
    "df.head()"
   ]
  },
  {
   "cell_type": "code",
   "execution_count": null,
   "metadata": {},
   "outputs": [],
   "source": [
    "df.to_csv('clean_hcmc_house_data.csv', index=False)"
   ]
  },
  {
   "cell_type": "markdown",
   "metadata": {},
   "source": [
    "## 2. Exploratory Data Analysis\n",
    "- **2.0** Understanding Data\n",
    "- **2.1** Handle Outliers\n",
    "    - Outliers in `Prices`\n",
    "- **2.2** Descriptive Statistic\n",
    "- **2.3** Determine Correlation"
   ]
  },
  {
   "cell_type": "code",
   "execution_count": 67,
   "metadata": {},
   "outputs": [],
   "source": [
    "df = pd.read_csv('clean_hcmc_house_data.csv')\n",
    "\n",
    "df['Date'] = pd.to_datetime(df['Date'])"
   ]
  },
  {
   "cell_type": "code",
   "execution_count": 68,
   "metadata": {},
   "outputs": [
    {
     "data": {
      "text/html": [
       "<div>\n",
       "<style scoped>\n",
       "    .dataframe tbody tr th:only-of-type {\n",
       "        vertical-align: middle;\n",
       "    }\n",
       "\n",
       "    .dataframe tbody tr th {\n",
       "        vertical-align: top;\n",
       "    }\n",
       "\n",
       "    .dataframe thead th {\n",
       "        text-align: right;\n",
       "    }\n",
       "</style>\n",
       "<table border=\"1\" class=\"dataframe\">\n",
       "  <thead>\n",
       "    <tr style=\"text-align: right;\">\n",
       "      <th></th>\n",
       "      <th>Date</th>\n",
       "      <th>City</th>\n",
       "      <th>District_Code</th>\n",
       "      <th>Division_Type</th>\n",
       "      <th>Frontage</th>\n",
       "      <th>Bedroom</th>\n",
       "      <th>Restroom</th>\n",
       "      <th>Floor</th>\n",
       "      <th>Ground_Area</th>\n",
       "      <th>Living_Area</th>\n",
       "      <th>Price</th>\n",
       "    </tr>\n",
       "  </thead>\n",
       "  <tbody>\n",
       "    <tr>\n",
       "      <th>0</th>\n",
       "      <td>2024-11-06</td>\n",
       "      <td>TPHCM</td>\n",
       "      <td>DGOVAPHCM</td>\n",
       "      <td>Urban</td>\n",
       "      <td>0</td>\n",
       "      <td>5</td>\n",
       "      <td>5</td>\n",
       "      <td>5.0</td>\n",
       "      <td>100</td>\n",
       "      <td>500.0</td>\n",
       "      <td>17000</td>\n",
       "    </tr>\n",
       "    <tr>\n",
       "      <th>1</th>\n",
       "      <td>2024-11-06</td>\n",
       "      <td>TPHCM</td>\n",
       "      <td>DTANBINHHCM</td>\n",
       "      <td>Urban</td>\n",
       "      <td>0</td>\n",
       "      <td>4</td>\n",
       "      <td>3</td>\n",
       "      <td>4.0</td>\n",
       "      <td>50</td>\n",
       "      <td>200.0</td>\n",
       "      <td>10500</td>\n",
       "    </tr>\n",
       "    <tr>\n",
       "      <th>2</th>\n",
       "      <td>2024-11-06</td>\n",
       "      <td>TPHCM</td>\n",
       "      <td>SDNHABEHCM</td>\n",
       "      <td>Suburban</td>\n",
       "      <td>0</td>\n",
       "      <td>3</td>\n",
       "      <td>2</td>\n",
       "      <td>3.0</td>\n",
       "      <td>25</td>\n",
       "      <td>75.0</td>\n",
       "      <td>1390</td>\n",
       "    </tr>\n",
       "    <tr>\n",
       "      <th>3</th>\n",
       "      <td>2024-11-06</td>\n",
       "      <td>TPHCM</td>\n",
       "      <td>D9TDHCM</td>\n",
       "      <td>Urban</td>\n",
       "      <td>1</td>\n",
       "      <td>3</td>\n",
       "      <td>3</td>\n",
       "      <td>3.0</td>\n",
       "      <td>619</td>\n",
       "      <td>1857.0</td>\n",
       "      <td>3400</td>\n",
       "    </tr>\n",
       "    <tr>\n",
       "      <th>4</th>\n",
       "      <td>2024-11-06</td>\n",
       "      <td>TPHCM</td>\n",
       "      <td>DBINHTHANHHCM</td>\n",
       "      <td>Urban</td>\n",
       "      <td>0</td>\n",
       "      <td>3</td>\n",
       "      <td>4</td>\n",
       "      <td>3.0</td>\n",
       "      <td>35</td>\n",
       "      <td>105.0</td>\n",
       "      <td>4950</td>\n",
       "    </tr>\n",
       "  </tbody>\n",
       "</table>\n",
       "</div>"
      ],
      "text/plain": [
       "        Date    City  District_Code Division_Type  Frontage  Bedroom  \\\n",
       "0 2024-11-06   TPHCM      DGOVAPHCM         Urban         0        5   \n",
       "1 2024-11-06   TPHCM    DTANBINHHCM         Urban         0        4   \n",
       "2 2024-11-06   TPHCM     SDNHABEHCM      Suburban         0        3   \n",
       "3 2024-11-06   TPHCM        D9TDHCM         Urban         1        3   \n",
       "4 2024-11-06   TPHCM  DBINHTHANHHCM         Urban         0        3   \n",
       "\n",
       "   Restroom  Floor  Ground_Area  Living_Area  Price  \n",
       "0         5    5.0          100        500.0  17000  \n",
       "1         3    4.0           50        200.0  10500  \n",
       "2         2    3.0           25         75.0   1390  \n",
       "3         3    3.0          619       1857.0   3400  \n",
       "4         4    3.0           35        105.0   4950  "
      ]
     },
     "execution_count": 68,
     "metadata": {},
     "output_type": "execute_result"
    }
   ],
   "source": [
    "df.head()"
   ]
  },
  {
   "cell_type": "markdown",
   "metadata": {},
   "source": [
    "### 2.0 Understanding Data"
   ]
  },
  {
   "cell_type": "markdown",
   "metadata": {},
   "source": [
    "| Columns | Unit | Content |\n",
    "|-- | -- | --|\n",
    "| Date | | The date the property posted onto the website|\n",
    "| City | | City of where the property is |\n",
    "| District_Code | |Code of district where the property is |\n",
    "| Division Type | | Administrative Division Type of Vietnam: Urban or Suburban|\n",
    "| Frontage | | Whether the property is in the frontage or not |\n",
    "| Bedroom | room | Number of bedroom in the house |\n",
    "| Restroom | room | Number of restroom in the house |\n",
    "| Floor | floor | Number of floor in the property |\n",
    "| Ground_Area | m<sup>2</sup> | Ground area of the house (In meter squared)|\n",
    "| Living Area| m<sup>2</sup> | Total living area of the house |\n",
    "| Price | million VND | The price of property on the website (In million Vietnamese Dong) |"
   ]
  },
  {
   "cell_type": "markdown",
   "metadata": {},
   "source": [
    "### 2.1 Handle Outliers"
   ]
  },
  {
   "cell_type": "markdown",
   "metadata": {},
   "source": [
    "#### Handle Outliers in `Price`"
   ]
  },
  {
   "cell_type": "code",
   "execution_count": 76,
   "metadata": {},
   "outputs": [
    {
     "data": {
      "image/png": "[encoded data removed]",
      "text/plain": [
       "<Figure size 400x400 with 1 Axes>"
      ]
     },
     "metadata": {},
     "output_type": "display_data"
    }
   ],
   "source": [
    "plt.subplots(figsize=(4,4))\n",
    "\n",
    "sns.boxplot(data=df['Price'])\n",
    "plt.ylim(df['Price'].min(), df['Price'].max())\n",
    "plt.ticklabel_format(style='plain', axis='y')"
   ]
  },
  {
   "cell_type": "markdown",
   "metadata": {},
   "source": [
    "As we can see in the boxplot above, this data is skewed with a lot of outliers due to those 'dirty data' on the website."
   ]
  },
  {
   "cell_type": "code",
   "execution_count": 77,
   "metadata": {},
   "outputs": [
    {
     "name": "stdout",
     "output_type": "stream",
     "text": [
      "0\n",
      "8690000\n"
     ]
    }
   ],
   "source": [
    "print(df['Price'].min())\n",
    "\n",
    "print(df['Price'].max())"
   ]
  },
  {
   "cell_type": "markdown",
   "metadata": {},
   "source": [
    "Those number are unreasonable. "
   ]
  },
  {
   "cell_type": "markdown",
   "metadata": {},
   "source": [
    "We need to put threshold on the `Price` column to exclude price that are significantly unreasonable."
   ]
  },
  {
   "cell_type": "markdown",
   "metadata": {},
   "source": [
    "A house can not be below 500 million VND (`Price` < 500)"
   ]
  },
  {
   "cell_type": "code",
   "execution_count": 78,
   "metadata": {},
   "outputs": [],
   "source": [
    "df.drop(df[df['Price']<500].index, inplace=True)"
   ]
  },
  {
   "cell_type": "markdown",
   "metadata": {},
   "source": [
    "Also, we are not interesting in houses that more 5 hundred billion VND (`Price` > 500000)"
   ]
  },
  {
   "cell_type": "code",
   "execution_count": 79,
   "metadata": {},
   "outputs": [],
   "source": [
    "df.drop(df[df['Price']>100000].index, inplace=True)"
   ]
  },
  {
   "cell_type": "code",
   "execution_count": 80,
   "metadata": {},
   "outputs": [
    {
     "data": {
      "image/png": "[encoded data removed]",
      "text/plain": [
       "<Figure size 500x500 with 1 Axes>"
      ]
     },
     "metadata": {},
     "output_type": "display_data"
    }
   ],
   "source": [
    "plt.subplots(figsize=(5,5))\n",
    "\n",
    "sns.boxplot(data=df['Price'])\n",
    "plt.ylim(df['Price'].min(), df['Price'].max())\n",
    "plt.ticklabel_format(style='plain', axis='y')"
   ]
  },
  {
   "cell_type": "markdown",
   "metadata": {},
   "source": [
    "Even though after putting the threshold, the data is still heavily skewed with a lot of outliers.   \n",
    "&rarr; But is it anomalies or it really reflect the reality of the market? "
   ]
  },
  {
   "cell_type": "code",
   "execution_count": 81,
   "metadata": {},
   "outputs": [
    {
     "data": {
      "text/plain": [
       "District_Code\n",
       "D2TDHCM          1603\n",
       "D1HCM            1567\n",
       "D3HCM            1076\n",
       "DTANBINHHCM      1031\n",
       "DBINHTHANHHCM     842\n",
       "Name: count, dtype: int64"
      ]
     },
     "execution_count": 81,
     "metadata": {},
     "output_type": "execute_result"
    }
   ],
   "source": [
    "# Print out where most of the outliers are\n",
    "\n",
    "df[(df['Price']>20000)]['District_Code'].value_counts().head()"
   ]
  },
  {
   "cell_type": "markdown",
   "metadata": {},
   "source": [
    "We see that even though most of the outliers (higher than one hundread billions VND) are located in D1, D2, D3 and some in Binh Thanh and Phu Nhuan district. These are all <ins>prestigious central neighborhoods</ins> of Ho Chi Minh city, Vietnam. It is reasonable for these areas to have really high real estate value"
   ]
  },
  {
   "cell_type": "markdown",
   "metadata": {},
   "source": [
    "#### Handle Outliers in `Ground_Area` "
   ]
  },
  {
   "cell_type": "code",
   "execution_count": 56,
   "metadata": {},
   "outputs": [
    {
     "name": "stdout",
     "output_type": "stream",
     "text": [
      "0\n",
      "75300\n"
     ]
    }
   ],
   "source": [
    "print(df['Ground_Area'].min())\n",
    "print(df['Ground_Area'].max())"
   ]
  },
  {
   "cell_type": "markdown",
   "metadata": {},
   "source": [
    "These numbers are, also, unreasonable. "
   ]
  },
  {
   "cell_type": "code",
   "execution_count": 57,
   "metadata": {},
   "outputs": [
    {
     "data": {
      "image/png": "[encoded data removed]",
      "text/plain": [
       "<Figure size 500x500 with 1 Axes>"
      ]
     },
     "metadata": {},
     "output_type": "display_data"
    }
   ],
   "source": [
    "plt.subplots(figsize=(5,5))\n",
    "\n",
    "sns.boxplot(data=df['Ground_Area'])\n",
    "plt.ylim(df['Ground_Area'].min(), df['Ground_Area'].max())\n",
    "plt.ticklabel_format(style='plain', axis='y')"
   ]
  },
  {
   "cell_type": "markdown",
   "metadata": {},
   "source": [
    "They are only 3 outliers with `Ground_Area` more than 30000m<sup>2</sup> (Which is some kind of unreasonable in a densely populated city like HCMC)   \n",
    "&rarr; We gonna drop these outliers"
   ]
  },
  {
   "cell_type": "code",
   "execution_count": null,
   "metadata": {},
   "outputs": [],
   "source": [
    "df.drop(df[df['Ground_Area']>30000].index, inplace=True)"
   ]
  },
  {
   "cell_type": "code",
   "execution_count": null,
   "metadata": {},
   "outputs": [],
   "source": [
    "df.drop(df[df['Ground_Area']<=4].index, inplace=True)"
   ]
  },
  {
   "cell_type": "markdown",
   "metadata": {},
   "source": [
    "### 2.2 Descriptive Statistic"
   ]
  },
  {
   "cell_type": "code",
   "execution_count": 60,
   "metadata": {},
   "outputs": [
    {
     "data": {
      "text/html": [
       "<div>\n",
       "<style scoped>\n",
       "    .dataframe tbody tr th:only-of-type {\n",
       "        vertical-align: middle;\n",
       "    }\n",
       "\n",
       "    .dataframe tbody tr th {\n",
       "        vertical-align: top;\n",
       "    }\n",
       "\n",
       "    .dataframe thead th {\n",
       "        text-align: right;\n",
       "    }\n",
       "</style>\n",
       "<table border=\"1\" class=\"dataframe\">\n",
       "  <thead>\n",
       "    <tr style=\"text-align: right;\">\n",
       "      <th></th>\n",
       "      <th>Frontage</th>\n",
       "      <th>Bedroom</th>\n",
       "      <th>Restroom</th>\n",
       "      <th>Floor</th>\n",
       "      <th>Ground_Area</th>\n",
       "      <th>Living_Area</th>\n",
       "      <th>Price</th>\n",
       "    </tr>\n",
       "  </thead>\n",
       "  <tbody>\n",
       "    <tr>\n",
       "      <th>count</th>\n",
       "      <td>44288.00</td>\n",
       "      <td>44288.00</td>\n",
       "      <td>44288.00</td>\n",
       "      <td>44288.00</td>\n",
       "      <td>44288.00</td>\n",
       "      <td>44288.00</td>\n",
       "      <td>44288.00</td>\n",
       "    </tr>\n",
       "    <tr>\n",
       "      <th>mean</th>\n",
       "      <td>0.40</td>\n",
       "      <td>4.55</td>\n",
       "      <td>4.52</td>\n",
       "      <td>3.60</td>\n",
       "      <td>95.12</td>\n",
       "      <td>356.64</td>\n",
       "      <td>14644.64</td>\n",
       "    </tr>\n",
       "    <tr>\n",
       "      <th>std</th>\n",
       "      <td>0.49</td>\n",
       "      <td>4.69</td>\n",
       "      <td>4.74</td>\n",
       "      <td>1.48</td>\n",
       "      <td>132.81</td>\n",
       "      <td>508.52</td>\n",
       "      <td>17887.97</td>\n",
       "    </tr>\n",
       "    <tr>\n",
       "      <th>min</th>\n",
       "      <td>0.00</td>\n",
       "      <td>0.00</td>\n",
       "      <td>0.00</td>\n",
       "      <td>1.00</td>\n",
       "      <td>0.00</td>\n",
       "      <td>0.00</td>\n",
       "      <td>500.00</td>\n",
       "    </tr>\n",
       "    <tr>\n",
       "      <th>25%</th>\n",
       "      <td>0.00</td>\n",
       "      <td>3.00</td>\n",
       "      <td>2.00</td>\n",
       "      <td>3.00</td>\n",
       "      <td>51.00</td>\n",
       "      <td>144.00</td>\n",
       "      <td>4300.00</td>\n",
       "    </tr>\n",
       "    <tr>\n",
       "      <th>50%</th>\n",
       "      <td>0.00</td>\n",
       "      <td>4.00</td>\n",
       "      <td>4.00</td>\n",
       "      <td>3.00</td>\n",
       "      <td>68.00</td>\n",
       "      <td>240.00</td>\n",
       "      <td>7590.00</td>\n",
       "    </tr>\n",
       "    <tr>\n",
       "      <th>75%</th>\n",
       "      <td>1.00</td>\n",
       "      <td>5.00</td>\n",
       "      <td>5.00</td>\n",
       "      <td>4.00</td>\n",
       "      <td>100.00</td>\n",
       "      <td>400.00</td>\n",
       "      <td>17000.00</td>\n",
       "    </tr>\n",
       "    <tr>\n",
       "      <th>max</th>\n",
       "      <td>1.00</td>\n",
       "      <td>100.00</td>\n",
       "      <td>100.00</td>\n",
       "      <td>81.00</td>\n",
       "      <td>7070.00</td>\n",
       "      <td>28280.00</td>\n",
       "      <td>100000.00</td>\n",
       "    </tr>\n",
       "  </tbody>\n",
       "</table>\n",
       "</div>"
      ],
      "text/plain": [
       "       Frontage   Bedroom  Restroom     Floor  Ground_Area  Living_Area  \\\n",
       "count  44288.00  44288.00  44288.00  44288.00     44288.00     44288.00   \n",
       "mean       0.40      4.55      4.52      3.60        95.12       356.64   \n",
       "std        0.49      4.69      4.74      1.48       132.81       508.52   \n",
       "min        0.00      0.00      0.00      1.00         0.00         0.00   \n",
       "25%        0.00      3.00      2.00      3.00        51.00       144.00   \n",
       "50%        0.00      4.00      4.00      3.00        68.00       240.00   \n",
       "75%        1.00      5.00      5.00      4.00       100.00       400.00   \n",
       "max        1.00    100.00    100.00     81.00      7070.00     28280.00   \n",
       "\n",
       "           Price  \n",
       "count   44288.00  \n",
       "mean    14644.64  \n",
       "std     17887.97  \n",
       "min       500.00  \n",
       "25%      4300.00  \n",
       "50%      7590.00  \n",
       "75%     17000.00  \n",
       "max    100000.00  "
      ]
     },
     "execution_count": 60,
     "metadata": {},
     "output_type": "execute_result"
    }
   ],
   "source": [
    "df['Date'].dtypes\n",
    "\n",
    "df.describe(exclude=['<M8[ns]', object]).round(2)"
   ]
  },
  {
   "cell_type": "markdown",
   "metadata": {},
   "source": [
    "#### House Price in Different Area of HCMC"
   ]
  },
  {
   "cell_type": "markdown",
   "metadata": {},
   "source": [
    "We can divide the map of HCMC into 4 main areas:\n",
    "- <ins>Urban District</ins>: D1, D3, D4, D5, D6, D8, D10, D11, Tan Phu, Tan Binh, Go Vap, Binh Thanh and Phu Nhuan\n",
    "- <ins>Peri-Urban District</ins>: D7, D12 and Binh Tan\n",
    "- <ins>Thu Duc City</ins>: D2, D9 and Thu Duc\n",
    "- <ins>Suburban District</ins>: Cu Chi, Hoc Mon, Binh Chanh, Nha Be, Can Gio"
   ]
  },
  {
   "cell_type": "code",
   "execution_count": 61,
   "metadata": {},
   "outputs": [],
   "source": [
    "urban_district = ['D1HCM', 'D3HCM', 'D4HCM', 'D5HCM', 'D6HCM', 'D8HCM', 'D10HCM', 'D11HCM',\n",
    "                  'DTANPHUHCM', 'DTANBINHHCM', 'DGOVAPHCM', 'DBINHTHANHHCM', 'DPHUNHUANHCM']\n",
    "\n",
    "peri_urban_district = ['D7HCM', 'D12HCM', 'DBINHTANHCM']\n",
    "\n",
    "thuduc_city = ['D2TDHCM', 'D9TDHCM', 'DTHUDUCTDHCM']\n",
    "\n",
    "suburban_district = ['SDCUCHIHCM', 'SDHOCMONHCM', 'SDBINHCHANHHCM', 'SDNHABEHCM', 'SDCANGIOHCM']"
   ]
  },
  {
   "cell_type": "code",
   "execution_count": 62,
   "metadata": {},
   "outputs": [],
   "source": [
    "urban_dist_df = df[df['District_Code'].isin(urban_district)]\n",
    "peri_urban_df = df[df['District_Code'].isin(peri_urban_district)]\n",
    "thuduc_city_df = df[df['District_Code'].isin(thuduc_city)]\n",
    "suburban_dist_df = df[df['District_Code'].isin(suburban_district)]"
   ]
  },
  {
   "cell_type": "code",
   "execution_count": 63,
   "metadata": {},
   "outputs": [
    {
     "data": {
      "image/png": "[encoded data removed]",
      "text/plain": [
       "<Figure size 700x600 with 4 Axes>"
      ]
     },
     "metadata": {},
     "output_type": "display_data"
    }
   ],
   "source": [
    "# Ploting Price Distribution in Different Area\n",
    "\n",
    "figure, ax = plt.subplots(2,2, figsize=(7,6))\n",
    "plt.ticklabel_format(style='plain', axis='x')\n",
    "\n",
    "sns.histplot(urban_dist_df['Price'], color='red', ax=ax[0,0])\n",
    "ax[0,0].set_title('Price Distribution in Urban District')\n",
    "ax[0,0].set_xlim(left= urban_dist_df['Price'].min(), right=urban_dist_df['Price'].max())\n",
    "ax[0,0].tick_params(axis='x', rotation=45)\n",
    "\n",
    "sns.histplot(suburban_dist_df['Price'], color='blue', ax=ax[0,1])\n",
    "ax[0,1].set_title('Price Distribution in Suburban District')\n",
    "ax[0,1].set_xlim(left= suburban_dist_df['Price'].min())\n",
    "ax[0,1].tick_params(axis='x', rotation=45)\n",
    "\n",
    "sns.histplot(peri_urban_df['Price'], color='blue', ax=ax[1,0])\n",
    "ax[1,0].set_title('Price Distribution in Peri-Urban District')\n",
    "ax[1,0].set_xlim(left= peri_urban_df['Price'].min())\n",
    "ax[1,0].tick_params(axis='x', rotation=45)\n",
    "\n",
    "sns.histplot(thuduc_city_df['Price'], color='blue', ax=ax[1,1])\n",
    "ax[1,1].set_title('Price Distribution in Thu Duc City')\n",
    "ax[1,1].set_xlim(left= thuduc_city_df['Price'].min())\n",
    "ax[1,1].tick_params(axis='x', rotation=45)\n",
    "\n",
    "plt.tight_layout()"
   ]
  },
  {
   "cell_type": "markdown",
   "metadata": {},
   "source": [
    "#### House Price in HCMC over time"
   ]
  },
  {
   "cell_type": "code",
   "execution_count": 64,
   "metadata": {},
   "outputs": [
    {
     "name": "stderr",
     "output_type": "stream",
     "text": [
      "C:\\Users\\aDMIN\\AppData\\Local\\Temp\\ipykernel_1396\\793063434.py:3: FutureWarning: 'M' is deprecated and will be removed in a future version, please use 'ME' instead.\n",
      "  price_over_time_df = price_over_time_df.resample('M', on='Date')['Price'].mean().reset_index()\n"
     ]
    }
   ],
   "source": [
    "price_over_time_df = df[['Date', 'Price']]\n",
    "\n",
    "price_over_time_df = price_over_time_df.resample('M', on='Date')['Price'].mean().reset_index()"
   ]
  },
  {
   "cell_type": "code",
   "execution_count": 65,
   "metadata": {},
   "outputs": [
    {
     "data": {
      "image/png": "[encoded data removed]",
      "text/plain": [
       "<Figure size 600x400 with 1 Axes>"
      ]
     },
     "metadata": {},
     "output_type": "display_data"
    }
   ],
   "source": [
    "# Plotting the mean house prices over time\n",
    "\n",
    "plt.figure(figsize=(6, 4))\n",
    "plt.plot(price_over_time_df['Date'], price_over_time_df['Price'], marker='o', color='b', linestyle='-', \n",
    "         label='House Price in HCMC ')\n",
    "plt.title('Mean House Prices Over Time, from 5/2023 - 11/2024')\n",
    "plt.xlabel('Date')\n",
    "plt.ylabel('Mean Price')\n",
    "plt.xticks(rotation=45)\n",
    "plt.grid(True)\n",
    "plt.legend()\n",
    "plt.tight_layout()  # To ensure the plot fits well\n",
    "plt.show()"
   ]
  },
  {
   "cell_type": "markdown",
   "metadata": {},
   "source": [
    "### 2.3 Determine Correlations"
   ]
  },
  {
   "cell_type": "code",
   "execution_count": 20,
   "metadata": {},
   "outputs": [
    {
     "data": {
      "image/png": "[encoded data removed]",
      "text/plain": [
       "<Figure size 500x400 with 2 Axes>"
      ]
     },
     "metadata": {},
     "output_type": "display_data"
    }
   ],
   "source": [
    "plt.subplots(figsize=(5,4))\n",
    "\n",
    "sns.heatmap(df.corr(numeric_only=True), cmap='RdBu', center=0)\n",
    "\n",
    "plt.title('Correlations between House Features', fontsize=15, pad=15)\n",
    "plt.xticks(fontsize=10)\n",
    "plt.yticks(fontsize=10)\n",
    "\n",
    "plt.tight_layout() \n",
    "plt.show()"
   ]
  },
  {
   "cell_type": "markdown",
   "metadata": {},
   "source": [
    "Most of the features have positive correlations with house prices, but it is interesting to note that:\n",
    "- `Ground_Area` and `Living_Area` exhibits a week correlation with house prices\n",
    "- `Frontage` is one of the most predictive feature of house price. "
   ]
  },
  {
   "cell_type": "code",
   "execution_count": 31,
   "metadata": {},
   "outputs": [
    {
     "data": {
      "text/plain": [
       "0        100\n",
       "1         50\n",
       "4         35\n",
       "5         30\n",
       "6        100\n",
       "        ... \n",
       "45779     72\n",
       "45780     46\n",
       "45781     32\n",
       "45783     40\n",
       "45784     50\n",
       "Name: Ground_Area, Length: 29214, dtype: int64"
      ]
     },
     "execution_count": 31,
     "metadata": {},
     "output_type": "execute_result"
    }
   ],
   "source": [
    "urban_dist_df['Ground_Area']"
   ]
  },
  {
   "cell_type": "code",
   "execution_count": null,
   "metadata": {},
   "outputs": [],
   "source": []
  },
  {
   "cell_type": "code",
   "execution_count": 47,
   "metadata": {},
   "outputs": [
    {
     "data": {
      "text/plain": [
       "<Axes: ylabel='Ground_Area'>"
      ]
     },
     "execution_count": 47,
     "metadata": {},
     "output_type": "execute_result"
    },
    {
     "data": {
      "image/png": "[encoded data removed]",
      "text/plain": [
       "<Figure size 640x480 with 1 Axes>"
      ]
     },
     "metadata": {},
     "output_type": "display_data"
    }
   ],
   "source": [
    "# fig, ax = plt.subplots(1,4,figsize=(8,8))\n",
    "\n",
    "sns.boxplot(y=urban_dist_df['Ground_Area'])"
   ]
  }
 ],
 "metadata": {
  "kernelspec": {
   "display_name": "Python 3",
   "language": "python",
   "name": "python3"
  },
  "language_info": {
   "codemirror_mode": {
    "name": "ipython",
    "version": 3
   },
   "file_extension": ".py",
   "mimetype": "text/x-python",
   "name": "python",
   "nbconvert_exporter": "python",
   "pygments_lexer": "ipython3",
   "version": "3.11.9"
  }
 },
 "nbformat": 4,
 "nbformat_minor": 2
}
